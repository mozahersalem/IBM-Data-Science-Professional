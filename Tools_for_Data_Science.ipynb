{
  "metadata": {
    "kernelspec": {
      "name": "python",
      "display_name": "Python (Pyodide)",
      "language": "python"
    },
    "language_info": {
      "codemirror_mode": {
        "name": "python",
        "version": 3
      },
      "file_extension": ".py",
      "mimetype": "text/x-python",
      "name": "python",
      "nbconvert_exporter": "python",
      "pygments_lexer": "ipython3",
      "version": "3.8"
    }
  },
  "nbformat_minor": 4,
  "nbformat": 4,
  "cells": [
    {
      "cell_type": "markdown",
      "source": "# Notebook",
      "metadata": {}
    },
    {
      "cell_type": "markdown",
      "source": "# Introduction\nThis **Jupyter** notebook is the final assignment of the second course **Tools for Data Science** in the **IBM Data Science Professional** Certificate track.\n\nIn this notebook, we will explore various tools that are essential for data science, covering their functionalities, use cases, and how they integrate with data science workflows. The aim is to provide a comprehensive understanding of these tools to help you make informed decisions when selecting the right tool for your data science projects.",
      "metadata": {}
    },
    {
      "cell_type": "markdown",
      "source": "# Data Science Languages.\n\n* **Python**: A high-level, general-purpose programming language with extensive libraries for tasks such as databases, automation, web scraping, text processing, image processing, machine learning, and data analytics.\n* **R**: A statistical computing language known for its powerful data manipulation, statistical analysis, and graphical capabilities.\n* **SQL**: A non-procedural language used for querying and managing data.\n* **Julia**: A language for high-performance numerical analysis and computational science.\n* **Scala**: A general-purpose programming language that supports functional programming and has a strong static type system.\n* **Java**: An object-oriented programming language sometimes used for large-scale data processing frameworks like Apache Hadoop.\n* **JavaScript**: Often used in data visualization through libraries such as D3.js.",
      "metadata": {}
    },
    {
      "cell_type": "markdown",
      "source": "# Data Science Libraries\n\n#### Python\n* **NumPy**: \nProvides support for arrays, matrices, and many mathematical functions.\n* **Pandas**: \nOffers data structures and tools for effective data cleaning, manipulation, and analysis.\n* **Matplotlib**: \nA plotting library for creating static, animated, and interactive visualizations.\n* **Seaborn**: \nBased on Matplotlib, it provides a high-level interface for drawing attractive statistical graphics.\n* **Scikit-learn**: \nA machine learning library featuring various classification, regression, and clustering algorithms.\n* **TensorFlow**: \nAn open-source platform for machine learning, especially deep learning.\n* **Keras**: \nA high-level neural networks API running on top of TensorFlow.\n* **PyTorch**: \nAn open-source machine learning library used for applications such as computer vision and natural language processing.\n* **SciPy**: \nUsed for scientific and technical computing, extending the capabilities of NumPy.\n\n\n#### R\n* **ggplot**: \nA system for declaratively creating graphics, based on The Grammar of Graphics.\n* **dplyr**: \nA grammar of data manipulation, providing a consistent set of verbs to solve data manipulation challenges.\n* **tidyr**: \nDesigned to help tidy up data. Tidy data is data that's easy to manipulate, model, and visualize.\n* **caret**: \nA package that provides tools for creating predictive models.\n* **plotly**: \nCreates interactive web graphics via the open source JavaScript graphing library plotly.js.\n* **Stringr**: \nA package designed for fast, correct, and consistent manipulation of strings.\n* **Lattice**: \nA powerful and elegant high-level data visualization system, designed with an emphasis on multivariate data.\n* **Leaflet**: \nProvides an interface to the Leaflet JavaScript library for creating interactive maps.\n\n#### Julia\n\n* **DataFrames.jl**: \nProvides a set of tools for working with tabular data.\n* **Plots.jl**: \nA powerful plotting package for Julia.\n* **MLJ.jl**: \nA machine learning framework for Julia.\n* **Flux.jl**: \nA machine learning library for Julia.\n* **DifferentialEquations.jl**: \nA suite for solving differential equations in Julia.\n\n#### Scala\n* **Breeze**: \nA library for numerical processing.\n* **Spark MLlib**: \nA machine learning library provided by Apache Spark.\n\n#### Java\nA machine learning library written in Java.\n* **Weka**: A collection of machine learning algorithms for data mining tasks.\n* **Deeplearning4j**: A deep learning library for Java and Scala.\n* **Java-ML**: A machine learning library written in Java.\n  \n#### JavaScript\n* **D3.js**: \nA JavaScript library for producing dynamic, interactive data visualizations in web browsers.\n* **TensorFlow.js**: \nA library to develop and train ML models in JavaScript.\n* **Chart.js**: \nSimple yet flexible JavaScript charting for designers and developers.\n\n#### MATLAB\n* **Statistics and Machine Learning Toolbox**: \nProvides functions and apps to describe, analyze, and model data.\n* **Deep Learning Toolbox**: \nProvides a framework for designing and implementing deep neural networks with algorithms, pretrained models, and apps.\n\n#### SQL-based\n* **SQL**: \nStructured Query Language used for managing and querying relational databases.\n* **PL/SQL**: \nProcedural extensions to SQL used in Oracle databases.\n* **T-SQL**: \nMicrosoft's extension to SQL used in SQL Server.\n\n#### Tools for Various Languages\n* **Jupyter Notebook**: \nA browser-based application that allows you to create and share documents containing code, equations, visualizations, and narrative text.\n\n* **JupyterLab**: \nAn extension of Jupyter Notebook, providing an interactive development environment for notebooks, code, and data.",
      "metadata": {}
    },
    {
      "cell_type": "markdown",
      "source": "# Arithmetic Expressions in Python\n\n\n```python\n# Adding two numbers\nadd = 3 + 5\nprint(\"3 + 5 =\", add)\n\n# Subtracting two numbers\nsubtract = 10 - 4\nprint(\"10 - 4 =\", subtract)\n\n# Dividing two numbers\ndivid = 15 / 3\nprint(\"15 / 3 =\", divid)",
      "metadata": {}
    },
    {
      "cell_type": "markdown",
      "source": "## Multiply and add numbers",
      "metadata": {}
    },
    {
      "cell_type": "code",
      "source": "# Code cell to multiply and add numbers in Python\n\n# Multiplying two numbers\nmultiply = 4 * 7\nprint(\"The multiply of 4 and 7 is:\", multiply)\n\n# Adding two numbers\nadd = 10 + 5\nprint(\"The sum of 10 and 5 is:\", add)",
      "metadata": {
        "trusted": true
      },
      "outputs": [
        {
          "name": "stdout",
          "text": "The multiply of 4 and 7 is: 28\nThe sum of 10 and 5 is: 15\n",
          "output_type": "stream"
        }
      ],
      "execution_count": 5
    },
    {
      "cell_type": "markdown",
      "source": "# Convert minutes to hours in Python\n",
      "metadata": {}
    },
    {
      "cell_type": "code",
      "source": "# Code cell to convert minutes to hours in Python\n\n# Define the number of minutes\nminutes = 120\n\n# Convert minutes to hours\nhours = minutes / 60\n\n# Print the result\nprint(f\"{minutes} minutes is equal to {hours} hours\")",
      "metadata": {
        "trusted": true
      },
      "outputs": [
        {
          "name": "stdout",
          "text": "120 minutes is equal to 2.0 hours\n",
          "output_type": "stream"
        }
      ],
      "execution_count": 6
    },
    {
      "cell_type": "markdown",
      "source": "# Objectives\n\n- Understand the different tools used in data science.\n- Learn the key features and functionalities of various data science tools.\n- Explore how these tools can be applied to solve real-world data science problems.\n- Gain hands-on experience with popular data science tools such as Jupyter Notebooks and RStudio.\n- Develop the ability to choose the right tool for a specific data science task.\n- Understand the integration of data science tools with programming languages like Python and R.",
      "metadata": {}
    },
    {
      "cell_type": "markdown",
      "source": "# Created by\n### Mohamed Salem Abdalla",
      "metadata": {}
    }
  ]
}